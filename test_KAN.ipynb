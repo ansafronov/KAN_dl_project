{
 "cells": [
  {
   "cell_type": "code",
   "execution_count": 1,
   "metadata": {},
   "outputs": [],
   "source": [
    "from datasets import load_dataset\n",
    "\n",
    "dataset = load_dataset(\"mnist\")"
   ]
  },
  {
   "cell_type": "code",
   "execution_count": 2,
   "metadata": {},
   "outputs": [],
   "source": [
    "import torch\n",
    "import torchvision.transforms as T\n",
    "\n",
    "transform = T.Compose([\n",
    "    T.ToTensor(), \n",
    "    T.Lambda(lambda x: torch.flatten(x))\n",
    "])"
   ]
  },
  {
   "cell_type": "code",
   "execution_count": 3,
   "metadata": {},
   "outputs": [],
   "source": [
    "from datasets import load_dataset\n",
    "from torch.utils.data import Dataset, DataLoader\n",
    "\n",
    "mnist = load_dataset(\"mnist\")\n",
    "\n",
    "class MnistDataset(Dataset):\n",
    "    def __init__(self, data, transforms=None):\n",
    "        super().__init__()\n",
    "        self.imgs = data['image']\n",
    "        self.labels = data['label']\n",
    "        self.transforms = transforms\n",
    "\n",
    "    def __len__(self):\n",
    "        return len(self.labels)\n",
    "    \n",
    "    def __getitem__(self, idx):\n",
    "        img, label = self.imgs[idx], self.labels[idx]\n",
    "        img = self.transforms(img)\n",
    "        label = torch.tensor(label)\n",
    "        return {'image': img, 'label': label}\n",
    "    \n",
    "train_dataset = MnistDataset(mnist['train'], transform)\n",
    "test_dataset = MnistDataset(mnist['test'], transform)\n",
    "    \n",
    "kan_dataset = {\n",
    "    'train_input': torch.stack([example['image'] for example in train_dataset]),\n",
    "    'train_label': torch.stack([example['label'] for example in train_dataset]).unsqueeze(1),\n",
    "    'test_input': torch.stack([example['image'] for example in test_dataset]),\n",
    "    'test_label': torch.stack([example['label'] for example in test_dataset]).unsqueeze(1)\n",
    "}"
   ]
  },
  {
   "cell_type": "code",
   "execution_count": 4,
   "metadata": {},
   "outputs": [
    {
     "name": "stderr",
     "output_type": "stream",
     "text": [
      "description:   0%|                                                           | 0/30 [00:00<?, ?it/s]"
     ]
    }
   ],
   "source": [
    "from pykan.kan import KAN\n",
    "\n",
    "# create a KAN: 2D inputs, 1D output, and 5 hidden neurons. cubic spline (k=3), 5 grid intervals (grid=5).\n",
    "model = KAN(width=[784, 256, 128, 64,1], grid=5, k=3, seed=0)\n",
    "\n",
    "model.train(kan_dataset, opt=\"Adam\", steps=30, lamb=0.01, lamb_entropy=10., batch=128)"
   ]
  },
  {
   "cell_type": "code",
   "execution_count": 19,
   "metadata": {},
   "outputs": [
    {
     "data": {
      "text/plain": [
       "torch.Size([2, 3, 4])"
      ]
     },
     "execution_count": 19,
     "metadata": {},
     "output_type": "execute_result"
    }
   ],
   "source": [
    "torch.rand(2,3,4)[:,:,torch.arange(4)].shape"
   ]
  },
  {
   "cell_type": "code",
   "execution_count": 11,
   "metadata": {},
   "outputs": [
    {
     "data": {
      "text/plain": [
       "tensor([0, 1, 2])"
      ]
     },
     "execution_count": 11,
     "metadata": {},
     "output_type": "execute_result"
    }
   ],
   "source": [
    "torch.arange(3)"
   ]
  },
  {
   "cell_type": "code",
   "execution_count": 25,
   "metadata": {},
   "outputs": [
    {
     "data": {
      "text/plain": [
       "tensor([[2, 3, 6],\n",
       "        [5, 6, 7]])"
      ]
     },
     "execution_count": 25,
     "metadata": {},
     "output_type": "execute_result"
    }
   ],
   "source": [
    "torch.sort(\n",
    "    torch.tensor([[6, 2, 3], [7, 5, 6]])\n",
    "    , dim=1)[0]"
   ]
  },
  {
   "cell_type": "code",
   "execution_count": null,
   "metadata": {},
   "outputs": [],
   "source": []
  }
 ],
 "metadata": {
  "kernelspec": {
   "display_name": "Python 3 (ipykernel)",
   "language": "python",
   "name": "python3"
  }
 },
 "nbformat": 4,
 "nbformat_minor": 2
}
