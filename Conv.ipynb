{
 "cells": [
  {
   "cell_type": "code",
   "execution_count": 1,
   "metadata": {},
   "outputs": [],
   "source": [
    "import torch\n",
    "from pykan.kan.spline import curve2coef, coef2curve, B_batch\n",
    "from pykan.kan.KAN import KAN\n",
    "from torch import nn\n",
    "\n",
    "import numpy as np\n",
    "from tqdm import tqdm"
   ]
  },
  {
   "cell_type": "code",
   "execution_count": 14,
   "metadata": {},
   "outputs": [],
   "source": [
    "class LAN_layer_2D(nn.Module):\n",
    "    def __init__(\n",
    "        self,\n",
    "        dim=2,\n",
    "        num=5,\n",
    "        k=3,\n",
    "        noise_scale=0.1,\n",
    "        scale_base=1.0,\n",
    "        scale_sp=1.0,\n",
    "        base_fun=torch.nn.SiLU(),\n",
    "        grid_eps=0.02,\n",
    "        grid_range=[-1,1],\n",
    "        sp_trainable=True,\n",
    "        sb_trainable=True,\n",
    "        device='cpu'\n",
    "    ):\n",
    "        super().__init__()\n",
    "\n",
    "        self.dim = dim\n",
    "        self.num = num\n",
    "        self.k = k \n",
    "        self.base_fun = base_fun\n",
    "        self.device = device\n",
    "\n",
    "        self.scale_base = scale_base\n",
    "        self.scale_sp = scale_sp\n",
    "\n",
    "        # определить grid\n",
    "        self.grid = torch.einsum('i,j->ij', torch.ones(self.dim, device=device), torch.linspace(grid_range[0], grid_range[1], steps=num + 1, device=device)) # (dim, grid)\n",
    "        self.grid = torch.nn.Parameter(self.grid).requires_grad_(False)\n",
    "\n",
    "        noises = (torch.rand(self.dim, self.grid.shape[1]) - 1 / 2) * noise_scale / num\n",
    "        noises = noises.to(device)\n",
    "        # shape: (size, coef)\n",
    "        self.coef = torch.nn.Parameter(curve2coef(self.grid, noises, self.grid, k, device))\n",
    "\n",
    "        self.bias = nn.Linear(dim, 1, bias=False, device=device)\n",
    "        self.bias.weight.data *= 0.\n",
    "        self.acts_scale = torch.zeros(dim).to(self.device)\n",
    "\n",
    "    def forward(self, x):\n",
    "        # (batch, channels, h, w) -> (batch * h * w, channels)\n",
    "        x = x.reshape(-1, x.shape[1]) \n",
    "\n",
    "        # (batch, dim) -> (dim, batch)\n",
    "        x = x.permute(1, 0)\n",
    "        y = coef2curve(x_eval=x, grid=self.grid, coef=self.coef, k=self.k, device=self.device).permute(1, 0)  # shape (batch, dim)\n",
    "        base = self.base_fun(x).permute(1, 0)  # shape (batch, dim)\n",
    "        y = self.scale_base * base + self.scale_sp * y # shape (batch, channels, h, w)\n",
    "        y = y + self.bias.weight\n",
    "\n",
    "        return y.reshape(x.shape)\n",
    "    \n",
    "    # def update_grid_from_samples(self, x):\n",
    "    #     batch = x.shape[0]\n",
    "    #     x = torch.einsum('ij,k->ikj', x, torch.ones(self.dim, ).to(self.device)).reshape(batch, self.size).permute(1, 0)\n",
    "    #     x_pos = torch.sort(x, dim=1)[0]\n",
    "    #     y_eval = coef2curve(x_pos, self.grid, self.coef, self.k, device=self.device)\n",
    "    #     num_interval = self.grid.shape[1] - 1\n",
    "    #     ids = [int(batch / num_interval * i) for i in range(num_interval)] + [-1]\n",
    "    #     grid_adaptive = x_pos[:, ids]\n",
    "    #     margin = 0.01\n",
    "    #     grid_uniform = torch.cat([grid_adaptive[:, [0]] - margin + (grid_adaptive[:, [-1]] - grid_adaptive[:, [0]] + 2 * margin) * a for a in np.linspace(0, 1, num=self.grid.shape[1])], dim=1)\n",
    "    #     self.grid.data = self.grid_eps * grid_uniform + (1 - self.grid_eps) * grid_adaptive\n",
    "    #     self.coef.data = curve2coef(x_pos, y_eval, self.grid, self.k, device=self.device)"
   ]
  },
  {
   "cell_type": "code",
   "execution_count": 15,
   "metadata": {},
   "outputs": [],
   "source": [
    "device = 'cuda'"
   ]
  },
  {
   "cell_type": "code",
   "execution_count": 26,
   "metadata": {},
   "outputs": [],
   "source": [
    "import torchvision.models as models\n",
    "model = models.resnet18(pretrained=True)"
   ]
  },
  {
   "cell_type": "code",
   "execution_count": 27,
   "metadata": {},
   "outputs": [],
   "source": [
    "for param in model.parameters():\n",
    "    param.requires_grad = False"
   ]
  },
  {
   "cell_type": "code",
   "execution_count": 28,
   "metadata": {},
   "outputs": [],
   "source": [
    "model.relu = LAN_layer_2D(64, device=device)\n",
    "\n",
    "model.layer1[0].relu = LAN_layer_2D(64, device=device)\n",
    "model.layer1[1].relu = LAN_layer_2D(64, device=device)\n",
    "\n",
    "model.layer2[0].relu = LAN_layer_2D(128, device=device)\n",
    "model.layer2[1].relu = LAN_layer_2D(128, device=device)\n",
    "\n",
    "model.layer3[0].relu = LAN_layer_2D(256, device=device)\n",
    "model.layer3[1].relu = LAN_layer_2D(256, device=device)\n",
    "\n",
    "model.layer4[0].relu = LAN_layer_2D(512, device=device)\n",
    "model.layer4[1].relu = LAN_layer_2D(512, device=device)"
   ]
  },
  {
   "cell_type": "code",
   "execution_count": 29,
   "metadata": {},
   "outputs": [],
   "source": [
    "model = model.to(device)"
   ]
  },
  {
   "cell_type": "code",
   "execution_count": 44,
   "metadata": {},
   "outputs": [
    {
     "name": "stderr",
     "output_type": "stream",
     "text": [
      "/home/ansafronov/.local/lib/python3.10/site-packages/datasets/load.py:1461: FutureWarning: The repository for imagenet-1k contains custom code which must be executed to correctly load the dataset. You can inspect the repository content at https://hf.co/datasets/imagenet-1k\n",
      "You can avoid this message in future by passing the argument `trust_remote_code=True`.\n",
      "Passing `trust_remote_code=True` will be mandatory to load this dataset from the next major release of `datasets`.\n",
      "  warnings.warn(\n"
     ]
    },
    {
     "data": {
      "application/vnd.jupyter.widget-view+json": {
       "model_id": "3c84ca0ff1904fbd9ad2f027069213f9",
       "version_major": 2,
       "version_minor": 0
      },
      "text/plain": [
       "Downloading builder script:   0%|          | 0.00/4.72k [00:00<?, ?B/s]"
      ]
     },
     "metadata": {},
     "output_type": "display_data"
    },
    {
     "data": {
      "application/vnd.jupyter.widget-view+json": {
       "model_id": "92513b5329974bdc94eb7f0a3a1adb87",
       "version_major": 2,
       "version_minor": 0
      },
      "text/plain": [
       "Downloading readme:   0%|          | 0.00/85.4k [00:00<?, ?B/s]"
      ]
     },
     "metadata": {},
     "output_type": "display_data"
    },
    {
     "data": {
      "application/vnd.jupyter.widget-view+json": {
       "model_id": "f45f85af0ade4119a6b85a3d46faa959",
       "version_major": 2,
       "version_minor": 0
      },
      "text/plain": [
       "Downloading extra modules:   0%|          | 0.00/46.4k [00:00<?, ?B/s]"
      ]
     },
     "metadata": {},
     "output_type": "display_data"
    },
    {
     "data": {
      "application/vnd.jupyter.widget-view+json": {
       "model_id": "f58bf6cefc4d4d33960870904a5efffb",
       "version_major": 2,
       "version_minor": 0
      },
      "text/plain": [
       "Downloading data:   0%|          | 0.00/29.1G [00:00<?, ?B/s]"
      ]
     },
     "metadata": {},
     "output_type": "display_data"
    },
    {
     "data": {
      "application/vnd.jupyter.widget-view+json": {
       "model_id": "cad4df661b754083910adbeaf9c49b7f",
       "version_major": 2,
       "version_minor": 0
      },
      "text/plain": [
       "Downloading data:   0%|          | 0.00/29.3G [00:00<?, ?B/s]"
      ]
     },
     "metadata": {},
     "output_type": "display_data"
    },
    {
     "data": {
      "application/vnd.jupyter.widget-view+json": {
       "model_id": "1ce405c5f1b7485ba867a9d38236c1b8",
       "version_major": 2,
       "version_minor": 0
      },
      "text/plain": [
       "Downloading data:   0%|          | 0.00/29.0G [00:00<?, ?B/s]"
      ]
     },
     "metadata": {},
     "output_type": "display_data"
    }
    ]
  }
]   
}